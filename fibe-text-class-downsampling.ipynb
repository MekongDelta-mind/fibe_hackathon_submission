{
 "cells": [
  {
   "cell_type": "code",
   "execution_count": 1,
   "id": "800bcfc4",
   "metadata": {
    "execution": {
     "iopub.execute_input": "2024-10-06T06:06:45.114258Z",
     "iopub.status.busy": "2024-10-06T06:06:45.113405Z",
     "iopub.status.idle": "2024-10-06T06:06:45.844960Z",
     "shell.execute_reply": "2024-10-06T06:06:45.843541Z"
    },
    "papermill": {
     "duration": 0.746905,
     "end_time": "2024-10-06T06:06:45.847569",
     "exception": false,
     "start_time": "2024-10-06T06:06:45.100664",
     "status": "completed"
    },
    "tags": []
   },
   "outputs": [
    {
     "name": "stdout",
     "output_type": "stream",
     "text": [
      "/kaggle/input/fibe-news-dataset/dataset/sample_submission.csv\n",
      "/kaggle/input/fibe-news-dataset/dataset/train.csv\n",
      "/kaggle/input/fibe-news-dataset/dataset/test.csv\n"
     ]
    }
   ],
   "source": [
    "# This Python 3 environment comes with many helpful analytics libraries installed\n",
    "# It is defined by the kaggle/python Docker image: https://github.com/kaggle/docker-python\n",
    "# For example, here's several helpful packages to load\n",
    "\n",
    "import numpy as np # linear algebra\n",
    "import pandas as pd # data processing, CSV file I/O (e.g. pd.read_csv)\n",
    "\n",
    "# Input data files are available in the read-only \"../input/\" directory\n",
    "# For example, running this (by clicking run or pressing Shift+Enter) will list all files under the input directory\n",
    "\n",
    "import os\n",
    "for dirname, _, filenames in os.walk('/kaggle/input'):\n",
    "    for filename in filenames:\n",
    "        print(os.path.join(dirname, filename))\n",
    "\n",
    "# You can write up to 20GB to the current directory (/kaggle/working/) that gets preserved as output when you create a version using \"Save & Run All\" \n",
    "# You can also write temporary files to /kaggle/temp/, but they won't be saved outside of the current session"
   ]
  },
  {
   "cell_type": "code",
   "execution_count": 2,
   "id": "3aa6e9e5",
   "metadata": {
    "execution": {
     "iopub.execute_input": "2024-10-06T06:06:45.871246Z",
     "iopub.status.busy": "2024-10-06T06:06:45.870342Z",
     "iopub.status.idle": "2024-10-06T06:06:45.874884Z",
     "shell.execute_reply": "2024-10-06T06:06:45.874001Z"
    },
    "papermill": {
     "duration": 0.01849,
     "end_time": "2024-10-06T06:06:45.876748",
     "exception": false,
     "start_time": "2024-10-06T06:06:45.858258",
     "status": "completed"
    },
    "tags": []
   },
   "outputs": [],
   "source": [
    "train_ds_path = '/kaggle/input/fibe-news-dataset/dataset/train.csv'\n",
    "test_ds_path = '/kaggle/input/fibe-news-dataset/dataset/test.csv'\n",
    "sample_path = '/kaggle/input/fibe-news-dataset/dataset/sample_submission.csv'\n"
   ]
  },
  {
   "cell_type": "code",
   "execution_count": 3,
   "id": "0334de0d",
   "metadata": {
    "execution": {
     "iopub.execute_input": "2024-10-06T06:06:45.898666Z",
     "iopub.status.busy": "2024-10-06T06:06:45.897858Z",
     "iopub.status.idle": "2024-10-06T06:06:45.902784Z",
     "shell.execute_reply": "2024-10-06T06:06:45.901415Z"
    },
    "papermill": {
     "duration": 0.017853,
     "end_time": "2024-10-06T06:06:45.904777",
     "exception": false,
     "start_time": "2024-10-06T06:06:45.886924",
     "status": "completed"
    },
    "tags": []
   },
   "outputs": [],
   "source": [
    "import time as t"
   ]
  },
  {
   "cell_type": "code",
   "execution_count": 4,
   "id": "206dddbd",
   "metadata": {
    "execution": {
     "iopub.execute_input": "2024-10-06T06:06:45.926336Z",
     "iopub.status.busy": "2024-10-06T06:06:45.925919Z",
     "iopub.status.idle": "2024-10-06T06:06:45.930305Z",
     "shell.execute_reply": "2024-10-06T06:06:45.929456Z"
    },
    "papermill": {
     "duration": 0.017213,
     "end_time": "2024-10-06T06:06:45.932128",
     "exception": false,
     "start_time": "2024-10-06T06:06:45.914915",
     "status": "completed"
    },
    "tags": []
   },
   "outputs": [],
   "source": [
    "def calculate_time(start_time,end_time):\n",
    "    elapsed_time = end_time - start_time\n",
    "    return f'The elapsed time is {elapsed_time} secs'"
   ]
  },
  {
   "cell_type": "code",
   "execution_count": 5,
   "id": "849b2c64",
   "metadata": {
    "execution": {
     "iopub.execute_input": "2024-10-06T06:06:45.953727Z",
     "iopub.status.busy": "2024-10-06T06:06:45.953007Z",
     "iopub.status.idle": "2024-10-06T06:07:13.064353Z",
     "shell.execute_reply": "2024-10-06T06:07:13.063314Z"
    },
    "papermill": {
     "duration": 27.124412,
     "end_time": "2024-10-06T06:07:13.066521",
     "exception": false,
     "start_time": "2024-10-06T06:06:45.942109",
     "status": "completed"
    },
    "tags": []
   },
   "outputs": [
    {
     "data": {
      "text/plain": [
       "'The elapsed time is 27.10423707962036 secs'"
      ]
     },
     "execution_count": 5,
     "metadata": {},
     "output_type": "execute_result"
    }
   ],
   "source": [
    "st = t.time()\n",
    "# 697527\n",
    "# train_df = pd.read_csv(train_ds_path,encoding='ISO-8859-1', nrows=200000)\n",
    "train_df = pd.read_csv(train_ds_path,encoding='ISO-8859-1')\n",
    "et = t.time()\n",
    "calculate_time(st,et)"
   ]
  },
  {
   "cell_type": "code",
   "execution_count": 6,
   "id": "fe7e4acd",
   "metadata": {
    "execution": {
     "iopub.execute_input": "2024-10-06T06:07:13.089082Z",
     "iopub.status.busy": "2024-10-06T06:07:13.088511Z",
     "iopub.status.idle": "2024-10-06T06:07:13.104807Z",
     "shell.execute_reply": "2024-10-06T06:07:13.103875Z"
    },
    "papermill": {
     "duration": 0.029697,
     "end_time": "2024-10-06T06:07:13.106693",
     "exception": false,
     "start_time": "2024-10-06T06:07:13.076996",
     "status": "completed"
    },
    "tags": []
   },
   "outputs": [
    {
     "data": {
      "text/html": [
       "<div>\n",
       "<style scoped>\n",
       "    .dataframe tbody tr th:only-of-type {\n",
       "        vertical-align: middle;\n",
       "    }\n",
       "\n",
       "    .dataframe tbody tr th {\n",
       "        vertical-align: top;\n",
       "    }\n",
       "\n",
       "    .dataframe thead th {\n",
       "        text-align: right;\n",
       "    }\n",
       "</style>\n",
       "<table border=\"1\" class=\"dataframe\">\n",
       "  <thead>\n",
       "    <tr style=\"text-align: right;\">\n",
       "      <th></th>\n",
       "      <th>text</th>\n",
       "      <th>target</th>\n",
       "      <th>Word Count</th>\n",
       "    </tr>\n",
       "  </thead>\n",
       "  <tbody>\n",
       "    <tr>\n",
       "      <th>0</th>\n",
       "      <td>python courses python courses, python exercise...</td>\n",
       "      <td>academic interests</td>\n",
       "      <td>125</td>\n",
       "    </tr>\n",
       "    <tr>\n",
       "      <th>1</th>\n",
       "      <td>the learning point open digital education. a r...</td>\n",
       "      <td>academic interests</td>\n",
       "      <td>147</td>\n",
       "    </tr>\n",
       "    <tr>\n",
       "      <th>2</th>\n",
       "      <td>tech news, latest technology, mobiles, laptops...</td>\n",
       "      <td>academic interests</td>\n",
       "      <td>143</td>\n",
       "    </tr>\n",
       "    <tr>\n",
       "      <th>3</th>\n",
       "      <td>the best it certification materials in usa | k...</td>\n",
       "      <td>academic interests</td>\n",
       "      <td>364</td>\n",
       "    </tr>\n",
       "    <tr>\n",
       "      <th>4</th>\n",
       "      <td>bioland scientific, for your research needs bi...</td>\n",
       "      <td>academic interests</td>\n",
       "      <td>176</td>\n",
       "    </tr>\n",
       "  </tbody>\n",
       "</table>\n",
       "</div>"
      ],
      "text/plain": [
       "                                                text              target  \\\n",
       "0  python courses python courses, python exercise...  academic interests   \n",
       "1  the learning point open digital education. a r...  academic interests   \n",
       "2  tech news, latest technology, mobiles, laptops...  academic interests   \n",
       "3  the best it certification materials in usa | k...  academic interests   \n",
       "4  bioland scientific, for your research needs bi...  academic interests   \n",
       "\n",
       "   Word Count  \n",
       "0         125  \n",
       "1         147  \n",
       "2         143  \n",
       "3         364  \n",
       "4         176  "
      ]
     },
     "execution_count": 6,
     "metadata": {},
     "output_type": "execute_result"
    }
   ],
   "source": [
    "train_df.head()"
   ]
  },
  {
   "cell_type": "code",
   "execution_count": 7,
   "id": "a1b39717",
   "metadata": {
    "execution": {
     "iopub.execute_input": "2024-10-06T06:07:13.129163Z",
     "iopub.status.busy": "2024-10-06T06:07:13.128601Z",
     "iopub.status.idle": "2024-10-06T06:07:13.187551Z",
     "shell.execute_reply": "2024-10-06T06:07:13.186653Z"
    },
    "papermill": {
     "duration": 0.072332,
     "end_time": "2024-10-06T06:07:13.189574",
     "exception": false,
     "start_time": "2024-10-06T06:07:13.117242",
     "status": "completed"
    },
    "tags": []
   },
   "outputs": [
    {
     "data": {
      "text/plain": [
       "target\n",
       "academic interests                           0.083879\n",
       "books and literature                         0.057969\n",
       "healthy living                               0.044364\n",
       "careers                                      0.043703\n",
       "news and politics                            0.043292\n",
       "shopping                                     0.042318\n",
       "style and fashion                            0.041782\n",
       "family and relationships                     0.041505\n",
       "business and finance                         0.040196\n",
       "automotives                                  0.040148\n",
       "pharmaceuticals, conditions, and symptoms    0.038129\n",
       "arts and culture                             0.037794\n",
       "sports                                       0.035183\n",
       "pets                                         0.034602\n",
       "hobbies and interests                        0.034343\n",
       "real estate                                  0.034185\n",
       "food and drinks                              0.033596\n",
       "home and garden                              0.032992\n",
       "video gaming                                 0.032902\n",
       "movies                                       0.031226\n",
       "travel                                       0.031106\n",
       "personal finance                             0.030296\n",
       "technology and computing                     0.029735\n",
       "music and audio                              0.029576\n",
       "television                                   0.027985\n",
       "health                                       0.027196\n",
       "Name: proportion, dtype: float64"
      ]
     },
     "execution_count": 7,
     "metadata": {},
     "output_type": "execute_result"
    }
   ],
   "source": [
    "# train_df.target.value_counts()\n",
    "train_df.target.value_counts(normalize=True)"
   ]
  },
  {
   "cell_type": "code",
   "execution_count": 8,
   "id": "3c6181db",
   "metadata": {
    "execution": {
     "iopub.execute_input": "2024-10-06T06:07:13.212350Z",
     "iopub.status.busy": "2024-10-06T06:07:13.211635Z",
     "iopub.status.idle": "2024-10-06T06:07:14.611453Z",
     "shell.execute_reply": "2024-10-06T06:07:14.610443Z"
    },
    "papermill": {
     "duration": 1.413674,
     "end_time": "2024-10-06T06:07:14.613893",
     "exception": false,
     "start_time": "2024-10-06T06:07:13.200219",
     "status": "completed"
    },
    "tags": []
   },
   "outputs": [],
   "source": [
    "import seaborn as sns\n",
    "import matplotlib.pyplot as plt"
   ]
  },
  {
   "cell_type": "code",
   "execution_count": 9,
   "id": "48e82cbe",
   "metadata": {
    "execution": {
     "iopub.execute_input": "2024-10-06T06:07:14.637506Z",
     "iopub.status.busy": "2024-10-06T06:07:14.636731Z",
     "iopub.status.idle": "2024-10-06T06:07:15.062240Z",
     "shell.execute_reply": "2024-10-06T06:07:15.061274Z"
    },
    "papermill": {
     "duration": 0.440065,
     "end_time": "2024-10-06T06:07:15.064996",
     "exception": false,
     "start_time": "2024-10-06T06:07:14.624931",
     "status": "completed"
    },
    "tags": []
   },
   "outputs": [
    {
     "data": {
      "image/png": "[encoded data removed]",
      "text/plain": [
       "<Figure size 640x480 with 1 Axes>"
      ]
     },
     "metadata": {},
     "output_type": "display_data"
    }
   ],
   "source": [
    "# Set the figure size to increase the width\n",
    "# plt.figure(figsize=(12, 6))  # Adjust the width (12 inches) as needed\n",
    "\n",
    "# Count the occurrences of each class\n",
    "class_counts = train_df['target'].value_counts()\n",
    "\n",
    "# Create a horizontal bar plot\n",
    "plt.barh(class_counts.index, class_counts)\n",
    "\n",
    "# Customize the plot\n",
    "plt.xlabel('Frequency')\n",
    "plt.ylabel('Class')\n",
    "plt.title('Class Distribution')\n",
    "\n",
    "# Show the plot\n",
    "plt.show()"
   ]
  },
  {
   "cell_type": "code",
   "execution_count": 10,
   "id": "db988ea4",
   "metadata": {
    "execution": {
     "iopub.execute_input": "2024-10-06T06:07:15.089915Z",
     "iopub.status.busy": "2024-10-06T06:07:15.089332Z",
     "iopub.status.idle": "2024-10-06T06:07:15.145720Z",
     "shell.execute_reply": "2024-10-06T06:07:15.144792Z"
    },
    "papermill": {
     "duration": 0.071049,
     "end_time": "2024-10-06T06:07:15.147743",
     "exception": false,
     "start_time": "2024-10-06T06:07:15.076694",
     "status": "completed"
    },
    "tags": []
   },
   "outputs": [
    {
     "data": {
      "text/plain": [
       "(26,\n",
       " array(['academic interests', 'arts and culture', 'automotives',\n",
       "        'books and literature', 'business and finance', 'careers',\n",
       "        'family and relationships', 'food and drinks', 'health',\n",
       "        'healthy living', 'hobbies and interests', 'home and garden',\n",
       "        'movies', 'music and audio', 'news and politics',\n",
       "        'personal finance', 'pets',\n",
       "        'pharmaceuticals, conditions, and symptoms', 'real estate',\n",
       "        'shopping', 'sports', 'style and fashion',\n",
       "        'technology and computing', 'television', 'travel', 'video gaming'],\n",
       "       dtype=object))"
      ]
     },
     "execution_count": 10,
     "metadata": {},
     "output_type": "execute_result"
    }
   ],
   "source": [
    "classes = train_df['target'].unique()\n",
    "len(classes), classes"
   ]
  },
  {
   "cell_type": "markdown",
   "id": "f6690ed9",
   "metadata": {
    "papermill": {
     "duration": 0.011291,
     "end_time": "2024-10-06T06:07:15.170743",
     "exception": false,
     "start_time": "2024-10-06T06:07:15.159452",
     "status": "completed"
    },
    "tags": []
   },
   "source": [
    "# Dropping duplicates"
   ]
  },
  {
   "cell_type": "code",
   "execution_count": 11,
   "id": "7a148fe4",
   "metadata": {
    "execution": {
     "iopub.execute_input": "2024-10-06T06:07:15.195594Z",
     "iopub.status.busy": "2024-10-06T06:07:15.195241Z",
     "iopub.status.idle": "2024-10-06T06:07:16.174324Z",
     "shell.execute_reply": "2024-10-06T06:07:16.173490Z"
    },
    "papermill": {
     "duration": 0.993613,
     "end_time": "2024-10-06T06:07:16.176340",
     "exception": false,
     "start_time": "2024-10-06T06:07:15.182727",
     "status": "completed"
    },
    "tags": []
   },
   "outputs": [],
   "source": [
    "duplicate_rows = train_df[train_df['text'].duplicated()]"
   ]
  },
  {
   "cell_type": "code",
   "execution_count": 12,
   "id": "5b7e0801",
   "metadata": {
    "execution": {
     "iopub.execute_input": "2024-10-06T06:07:16.201648Z",
     "iopub.status.busy": "2024-10-06T06:07:16.201302Z",
     "iopub.status.idle": "2024-10-06T06:07:16.211822Z",
     "shell.execute_reply": "2024-10-06T06:07:16.210968Z"
    },
    "papermill": {
     "duration": 0.025221,
     "end_time": "2024-10-06T06:07:16.213788",
     "exception": false,
     "start_time": "2024-10-06T06:07:16.188567",
     "status": "completed"
    },
    "tags": []
   },
   "outputs": [
    {
     "data": {
      "text/html": [
       "<div>\n",
       "<style scoped>\n",
       "    .dataframe tbody tr th:only-of-type {\n",
       "        vertical-align: middle;\n",
       "    }\n",
       "\n",
       "    .dataframe tbody tr th {\n",
       "        vertical-align: top;\n",
       "    }\n",
       "\n",
       "    .dataframe thead th {\n",
       "        text-align: right;\n",
       "    }\n",
       "</style>\n",
       "<table border=\"1\" class=\"dataframe\">\n",
       "  <thead>\n",
       "    <tr style=\"text-align: right;\">\n",
       "      <th></th>\n",
       "      <th>text</th>\n",
       "      <th>target</th>\n",
       "      <th>Word Count</th>\n",
       "    </tr>\n",
       "  </thead>\n",
       "  <tbody>\n",
       "    <tr>\n",
       "      <th>7533</th>\n",
       "      <td>BHUBANESWAR: OJEE, which is conducting the med...</td>\n",
       "      <td>academic interests</td>\n",
       "      <td>144</td>\n",
       "    </tr>\n",
       "    <tr>\n",
       "      <th>8443</th>\n",
       "      <td>BENGALURU: Prime Minister Narendra Modi will i...</td>\n",
       "      <td>academic interests</td>\n",
       "      <td>146</td>\n",
       "    </tr>\n",
       "    <tr>\n",
       "      <th>8483</th>\n",
       "      <td>AHMEDABAD: With a steady drop in COVID-19 case...</td>\n",
       "      <td>academic interests</td>\n",
       "      <td>289</td>\n",
       "    </tr>\n",
       "    <tr>\n",
       "      <th>8576</th>\n",
       "      <td>CHENNAI: Enrollment in University of Madras's ...</td>\n",
       "      <td>academic interests</td>\n",
       "      <td>291</td>\n",
       "    </tr>\n",
       "    <tr>\n",
       "      <th>14313</th>\n",
       "      <td>AMARAVATI: Andhra Pradesh Chief Minister Y.S. ...</td>\n",
       "      <td>academic interests</td>\n",
       "      <td>264</td>\n",
       "    </tr>\n",
       "    <tr>\n",
       "      <th>...</th>\n",
       "      <td>...</td>\n",
       "      <td>...</td>\n",
       "      <td>...</td>\n",
       "    </tr>\n",
       "    <tr>\n",
       "      <th>613355</th>\n",
       "      <td>be lucky in getting promotion in the current j...</td>\n",
       "      <td>family and relationships</td>\n",
       "      <td>500</td>\n",
       "    </tr>\n",
       "    <tr>\n",
       "      <th>613356</th>\n",
       "      <td>be tested. With the help of patience, you migh...</td>\n",
       "      <td>family and relationships</td>\n",
       "      <td>500</td>\n",
       "    </tr>\n",
       "    <tr>\n",
       "      <th>613357</th>\n",
       "      <td>go for outing with the family, which will boos...</td>\n",
       "      <td>family and relationships</td>\n",
       "      <td>500</td>\n",
       "    </tr>\n",
       "    <tr>\n",
       "      <th>614343</th>\n",
       "      <td>You feel no starry airs when in conversation w...</td>\n",
       "      <td>family and relationships</td>\n",
       "      <td>500</td>\n",
       "    </tr>\n",
       "    <tr>\n",
       "      <th>614729</th>\n",
       "      <td>To hear Ram Gopal Varma say, ï¿½ï¿½ï¿½I never ...</td>\n",
       "      <td>family and relationships</td>\n",
       "      <td>500</td>\n",
       "    </tr>\n",
       "  </tbody>\n",
       "</table>\n",
       "<p>607 rows × 3 columns</p>\n",
       "</div>"
      ],
      "text/plain": [
       "                                                     text  \\\n",
       "7533    BHUBANESWAR: OJEE, which is conducting the med...   \n",
       "8443    BENGALURU: Prime Minister Narendra Modi will i...   \n",
       "8483    AHMEDABAD: With a steady drop in COVID-19 case...   \n",
       "8576    CHENNAI: Enrollment in University of Madras's ...   \n",
       "14313   AMARAVATI: Andhra Pradesh Chief Minister Y.S. ...   \n",
       "...                                                   ...   \n",
       "613355  be lucky in getting promotion in the current j...   \n",
       "613356  be tested. With the help of patience, you migh...   \n",
       "613357  go for outing with the family, which will boos...   \n",
       "614343  You feel no starry airs when in conversation w...   \n",
       "614729  To hear Ram Gopal Varma say, ï¿½ï¿½ï¿½I never ...   \n",
       "\n",
       "                          target  Word Count  \n",
       "7533          academic interests         144  \n",
       "8443          academic interests         146  \n",
       "8483          academic interests         289  \n",
       "8576          academic interests         291  \n",
       "14313         academic interests         264  \n",
       "...                          ...         ...  \n",
       "613355  family and relationships         500  \n",
       "613356  family and relationships         500  \n",
       "613357  family and relationships         500  \n",
       "614343  family and relationships         500  \n",
       "614729  family and relationships         500  \n",
       "\n",
       "[607 rows x 3 columns]"
      ]
     },
     "execution_count": 12,
     "metadata": {},
     "output_type": "execute_result"
    }
   ],
   "source": [
    "duplicate_rows"
   ]
  },
  {
   "cell_type": "code",
   "execution_count": 13,
   "id": "660ccc93",
   "metadata": {
    "execution": {
     "iopub.execute_input": "2024-10-06T06:07:16.239970Z",
     "iopub.status.busy": "2024-10-06T06:07:16.239127Z",
     "iopub.status.idle": "2024-10-06T06:07:16.448785Z",
     "shell.execute_reply": "2024-10-06T06:07:16.447938Z"
    },
    "papermill": {
     "duration": 0.225169,
     "end_time": "2024-10-06T06:07:16.451120",
     "exception": false,
     "start_time": "2024-10-06T06:07:16.225951",
     "status": "completed"
    },
    "tags": []
   },
   "outputs": [],
   "source": [
    "train_df = train_df.drop_duplicates(subset='text', keep='first', ignore_index=True)"
   ]
  },
  {
   "cell_type": "code",
   "execution_count": 14,
   "id": "c75cd20f",
   "metadata": {
    "execution": {
     "iopub.execute_input": "2024-10-06T06:07:16.476864Z",
     "iopub.status.busy": "2024-10-06T06:07:16.476504Z",
     "iopub.status.idle": "2024-10-06T06:07:16.640130Z",
     "shell.execute_reply": "2024-10-06T06:07:16.639192Z"
    },
    "papermill": {
     "duration": 0.178716,
     "end_time": "2024-10-06T06:07:16.642106",
     "exception": false,
     "start_time": "2024-10-06T06:07:16.463390",
     "status": "completed"
    },
    "tags": []
   },
   "outputs": [
    {
     "data": {
      "text/html": [
       "<div>\n",
       "<style scoped>\n",
       "    .dataframe tbody tr th:only-of-type {\n",
       "        vertical-align: middle;\n",
       "    }\n",
       "\n",
       "    .dataframe tbody tr th {\n",
       "        vertical-align: top;\n",
       "    }\n",
       "\n",
       "    .dataframe thead th {\n",
       "        text-align: right;\n",
       "    }\n",
       "</style>\n",
       "<table border=\"1\" class=\"dataframe\">\n",
       "  <thead>\n",
       "    <tr style=\"text-align: right;\">\n",
       "      <th></th>\n",
       "      <th>text</th>\n",
       "      <th>target</th>\n",
       "      <th>Word Count</th>\n",
       "    </tr>\n",
       "  </thead>\n",
       "  <tbody>\n",
       "  </tbody>\n",
       "</table>\n",
       "</div>"
      ],
      "text/plain": [
       "Empty DataFrame\n",
       "Columns: [text, target, Word Count]\n",
       "Index: []"
      ]
     },
     "execution_count": 14,
     "metadata": {},
     "output_type": "execute_result"
    }
   ],
   "source": [
    "train_df[train_df['text'].duplicated()]"
   ]
  },
  {
   "cell_type": "markdown",
   "id": "f4045b2a",
   "metadata": {
    "papermill": {
     "duration": 0.011821,
     "end_time": "2024-10-06T06:07:16.666196",
     "exception": false,
     "start_time": "2024-10-06T06:07:16.654375",
     "status": "completed"
    },
    "tags": []
   },
   "source": [
    "No duplicates in the text anymore."
   ]
  },
  {
   "cell_type": "markdown",
   "id": "6c0dedc9",
   "metadata": {
    "papermill": {
     "duration": 0.011698,
     "end_time": "2024-10-06T06:07:16.689917",
     "exception": false,
     "start_time": "2024-10-06T06:07:16.678219",
     "status": "completed"
    },
    "tags": []
   },
   "source": [
    "# Removing special characters:"
   ]
  },
  {
   "cell_type": "code",
   "execution_count": 15,
   "id": "55af26e3",
   "metadata": {
    "execution": {
     "iopub.execute_input": "2024-10-06T06:07:16.715839Z",
     "iopub.status.busy": "2024-10-06T06:07:16.714993Z",
     "iopub.status.idle": "2024-10-06T06:07:16.719365Z",
     "shell.execute_reply": "2024-10-06T06:07:16.718459Z"
    },
    "papermill": {
     "duration": 0.019352,
     "end_time": "2024-10-06T06:07:16.721276",
     "exception": false,
     "start_time": "2024-10-06T06:07:16.701924",
     "status": "completed"
    },
    "tags": []
   },
   "outputs": [],
   "source": [
    "import unicodedata as ucd"
   ]
  },
  {
   "cell_type": "code",
   "execution_count": 16,
   "id": "24b89c51",
   "metadata": {
    "execution": {
     "iopub.execute_input": "2024-10-06T06:07:16.746495Z",
     "iopub.status.busy": "2024-10-06T06:07:16.745929Z",
     "iopub.status.idle": "2024-10-06T06:07:16.750583Z",
     "shell.execute_reply": "2024-10-06T06:07:16.749776Z"
    },
    "papermill": {
     "duration": 0.019408,
     "end_time": "2024-10-06T06:07:16.752499",
     "exception": false,
     "start_time": "2024-10-06T06:07:16.733091",
     "status": "completed"
    },
    "tags": []
   },
   "outputs": [],
   "source": [
    "def remove_non_english_characters(text):\n",
    "    return ''.join(c for c in text if ucd.category(c)[0] in ['L', 'N', 'P', 'S','Z'])\n"
   ]
  },
  {
   "cell_type": "code",
   "execution_count": 17,
   "id": "b810b702",
   "metadata": {
    "execution": {
     "iopub.execute_input": "2024-10-06T06:07:16.778433Z",
     "iopub.status.busy": "2024-10-06T06:07:16.777664Z",
     "iopub.status.idle": "2024-10-06T06:07:16.782286Z",
     "shell.execute_reply": "2024-10-06T06:07:16.781409Z"
    },
    "papermill": {
     "duration": 0.019558,
     "end_time": "2024-10-06T06:07:16.784111",
     "exception": false,
     "start_time": "2024-10-06T06:07:16.764553",
     "status": "completed"
    },
    "tags": []
   },
   "outputs": [],
   "source": [
    "def get_unicode_for_chars(text):\n",
    "    for char in text:\n",
    "        category = ucd.category(char)[0]\n",
    "        print(char, category)"
   ]
  },
  {
   "cell_type": "code",
   "execution_count": 18,
   "id": "9a4e49b8",
   "metadata": {
    "execution": {
     "iopub.execute_input": "2024-10-06T06:07:16.809419Z",
     "iopub.status.busy": "2024-10-06T06:07:16.808801Z",
     "iopub.status.idle": "2024-10-06T06:07:18.179781Z",
     "shell.execute_reply": "2024-10-06T06:07:18.178955Z"
    },
    "papermill": {
     "duration": 1.386159,
     "end_time": "2024-10-06T06:07:18.182163",
     "exception": false,
     "start_time": "2024-10-06T06:07:16.796004",
     "status": "completed"
    },
    "tags": []
   },
   "outputs": [],
   "source": [
    "filtered_df = train_df[train_df['text'].str.contains('To hear Ram Gopal')]"
   ]
  },
  {
   "cell_type": "code",
   "execution_count": 19,
   "id": "f51f7fc8",
   "metadata": {
    "execution": {
     "iopub.execute_input": "2024-10-06T06:07:18.209309Z",
     "iopub.status.busy": "2024-10-06T06:07:18.208726Z",
     "iopub.status.idle": "2024-10-06T06:07:18.217523Z",
     "shell.execute_reply": "2024-10-06T06:07:18.216653Z"
    },
    "papermill": {
     "duration": 0.024094,
     "end_time": "2024-10-06T06:07:18.219381",
     "exception": false,
     "start_time": "2024-10-06T06:07:18.195287",
     "status": "completed"
    },
    "tags": []
   },
   "outputs": [
    {
     "data": {
      "text/html": [
       "<div>\n",
       "<style scoped>\n",
       "    .dataframe tbody tr th:only-of-type {\n",
       "        vertical-align: middle;\n",
       "    }\n",
       "\n",
       "    .dataframe tbody tr th {\n",
       "        vertical-align: top;\n",
       "    }\n",
       "\n",
       "    .dataframe thead th {\n",
       "        text-align: right;\n",
       "    }\n",
       "</style>\n",
       "<table border=\"1\" class=\"dataframe\">\n",
       "  <thead>\n",
       "    <tr style=\"text-align: right;\">\n",
       "      <th></th>\n",
       "      <th>text</th>\n",
       "      <th>target</th>\n",
       "      <th>Word Count</th>\n",
       "    </tr>\n",
       "  </thead>\n",
       "  <tbody>\n",
       "    <tr>\n",
       "      <th>558047</th>\n",
       "      <td>To hear Ram Gopal Varma say, ï¿½ï¿½ï¿½I never ...</td>\n",
       "      <td>movies</td>\n",
       "      <td>500</td>\n",
       "    </tr>\n",
       "  </tbody>\n",
       "</table>\n",
       "</div>"
      ],
      "text/plain": [
       "                                                     text  target  Word Count\n",
       "558047  To hear Ram Gopal Varma say, ï¿½ï¿½ï¿½I never ...  movies         500"
      ]
     },
     "execution_count": 19,
     "metadata": {},
     "output_type": "execute_result"
    }
   ],
   "source": [
    "filtered_df"
   ]
  },
  {
   "cell_type": "code",
   "execution_count": 20,
   "id": "2dc8cca9",
   "metadata": {
    "execution": {
     "iopub.execute_input": "2024-10-06T06:07:18.245449Z",
     "iopub.status.busy": "2024-10-06T06:07:18.244853Z",
     "iopub.status.idle": "2024-10-06T06:07:18.251819Z",
     "shell.execute_reply": "2024-10-06T06:07:18.250929Z"
    },
    "papermill": {
     "duration": 0.02217,
     "end_time": "2024-10-06T06:07:18.253831",
     "exception": false,
     "start_time": "2024-10-06T06:07:18.231661",
     "status": "completed"
    },
    "tags": []
   },
   "outputs": [
    {
     "data": {
      "text/plain": [
       "text          To hear Ram Gopal Varma say, ï¿½ï¿½ï¿½I never ...\n",
       "target                                                   movies\n",
       "Word Count                                                  500\n",
       "Name: 558047, dtype: object"
      ]
     },
     "execution_count": 20,
     "metadata": {},
     "output_type": "execute_result"
    }
   ],
   "source": [
    "train_df.iloc[558047]"
   ]
  },
  {
   "cell_type": "code",
   "execution_count": 21,
   "id": "51c9965b",
   "metadata": {
    "execution": {
     "iopub.execute_input": "2024-10-06T06:07:18.280328Z",
     "iopub.status.busy": "2024-10-06T06:07:18.279673Z",
     "iopub.status.idle": "2024-10-06T06:07:18.285791Z",
     "shell.execute_reply": "2024-10-06T06:07:18.284868Z"
    },
    "papermill": {
     "duration": 0.021668,
     "end_time": "2024-10-06T06:07:18.287803",
     "exception": false,
     "start_time": "2024-10-06T06:07:18.266135",
     "status": "completed"
    },
    "tags": []
   },
   "outputs": [
    {
     "data": {
      "text/plain": [
       "'To hear Ram Gopal Varma say, ï¿½ï¿½ï¿½I never did a film like Rowdy,ï¿½ï¿½ï¿½ is a little confoundin'"
      ]
     },
     "execution_count": 21,
     "metadata": {},
     "output_type": "execute_result"
    }
   ],
   "source": [
    "train_df.iloc[558047]['text'][:100]"
   ]
  },
  {
   "cell_type": "code",
   "execution_count": 22,
   "id": "2b3fccb9",
   "metadata": {
    "execution": {
     "iopub.execute_input": "2024-10-06T06:07:18.314454Z",
     "iopub.status.busy": "2024-10-06T06:07:18.313672Z",
     "iopub.status.idle": "2024-10-06T06:07:18.320028Z",
     "shell.execute_reply": "2024-10-06T06:07:18.319185Z"
    },
    "papermill": {
     "duration": 0.021707,
     "end_time": "2024-10-06T06:07:18.322028",
     "exception": false,
     "start_time": "2024-10-06T06:07:18.300321",
     "status": "completed"
    },
    "tags": []
   },
   "outputs": [
    {
     "data": {
      "text/plain": [
       "'To hear Ram Gopal Varma say, ï¿½ï¿½ï¿½I never did a film like Rowdy,ï¿'"
      ]
     },
     "execution_count": 22,
     "metadata": {},
     "output_type": "execute_result"
    }
   ],
   "source": [
    "remove_non_english_characters(train_df.iloc[558047]['text'][:70])"
   ]
  },
  {
   "cell_type": "code",
   "execution_count": 23,
   "id": "272d976c",
   "metadata": {
    "execution": {
     "iopub.execute_input": "2024-10-06T06:07:18.348811Z",
     "iopub.status.busy": "2024-10-06T06:07:18.348474Z",
     "iopub.status.idle": "2024-10-06T06:07:18.354803Z",
     "shell.execute_reply": "2024-10-06T06:07:18.353843Z"
    },
    "papermill": {
     "duration": 0.022401,
     "end_time": "2024-10-06T06:07:18.357055",
     "exception": false,
     "start_time": "2024-10-06T06:07:18.334654",
     "status": "completed"
    },
    "tags": []
   },
   "outputs": [
    {
     "name": "stdout",
     "output_type": "stream",
     "text": [
      "T L\n",
      "o L\n",
      "  Z\n",
      "h L\n",
      "e L\n",
      "a L\n",
      "r L\n",
      "  Z\n",
      "R L\n",
      "a L\n",
      "m L\n",
      "  Z\n",
      "G L\n",
      "o L\n",
      "p L\n",
      "a L\n",
      "l L\n",
      "  Z\n",
      "V L\n",
      "a L\n",
      "r L\n",
      "m L\n",
      "a L\n",
      "  Z\n",
      "s L\n",
      "a L\n",
      "y L\n",
      ", P\n",
      "  Z\n",
      "ï L\n",
      "¿ P\n",
      "½ N\n",
      "ï L\n",
      "¿ P\n",
      "½ N\n",
      "ï L\n",
      "¿ P\n",
      "½ N\n",
      "I L\n",
      "  Z\n",
      "n L\n",
      "e L\n",
      "v L\n",
      "e L\n",
      "r L\n",
      "  Z\n",
      "d L\n",
      "i L\n",
      "d L\n",
      "  Z\n",
      "a L\n",
      "  Z\n",
      "f L\n",
      "i L\n",
      "l L\n",
      "m L\n",
      "  Z\n",
      "l L\n",
      "i L\n",
      "k L\n",
      "e L\n",
      "  Z\n",
      "R L\n",
      "o L\n",
      "w L\n",
      "d L\n",
      "y L\n",
      ", P\n",
      "ï L\n",
      "¿ P\n"
     ]
    }
   ],
   "source": [
    "get_unicode_for_chars(train_df.iloc[558047]['text'][:70])"
   ]
  },
  {
   "cell_type": "code",
   "execution_count": 24,
   "id": "349de49e",
   "metadata": {
    "execution": {
     "iopub.execute_input": "2024-10-06T06:07:18.384964Z",
     "iopub.status.busy": "2024-10-06T06:07:18.384245Z",
     "iopub.status.idle": "2024-10-06T06:07:18.389063Z",
     "shell.execute_reply": "2024-10-06T06:07:18.388161Z"
    },
    "papermill": {
     "duration": 0.020813,
     "end_time": "2024-10-06T06:07:18.391054",
     "exception": false,
     "start_time": "2024-10-06T06:07:18.370241",
     "status": "completed"
    },
    "tags": []
   },
   "outputs": [],
   "source": [
    "# Assuming your DataFrame is named 'df' and the text column is named 'text_column'\n",
    "def remove_non_ascii_characters(text):\n",
    "    return ''.join(c for c in text if ucd.category(c)[0] != 'C')"
   ]
  },
  {
   "cell_type": "code",
   "execution_count": 25,
   "id": "a56cb977",
   "metadata": {
    "execution": {
     "iopub.execute_input": "2024-10-06T06:07:18.418765Z",
     "iopub.status.busy": "2024-10-06T06:07:18.418417Z",
     "iopub.status.idle": "2024-10-06T06:07:18.424777Z",
     "shell.execute_reply": "2024-10-06T06:07:18.423873Z"
    },
    "papermill": {
     "duration": 0.022722,
     "end_time": "2024-10-06T06:07:18.426836",
     "exception": false,
     "start_time": "2024-10-06T06:07:18.404114",
     "status": "completed"
    },
    "tags": []
   },
   "outputs": [
    {
     "data": {
      "text/plain": [
       "'To hear Ram Gopal Varma say, ï¿½ï¿½ï¿½I never did a film like Rowdy,ï¿'"
      ]
     },
     "execution_count": 25,
     "metadata": {},
     "output_type": "execute_result"
    }
   ],
   "source": [
    "remove_non_ascii_characters(train_df.iloc[558047]['text'][:70])"
   ]
  },
  {
   "cell_type": "code",
   "execution_count": 26,
   "id": "868b027b",
   "metadata": {
    "execution": {
     "iopub.execute_input": "2024-10-06T06:07:18.455046Z",
     "iopub.status.busy": "2024-10-06T06:07:18.454210Z",
     "iopub.status.idle": "2024-10-06T06:07:18.458426Z",
     "shell.execute_reply": "2024-10-06T06:07:18.457510Z"
    },
    "papermill": {
     "duration": 0.020647,
     "end_time": "2024-10-06T06:07:18.460544",
     "exception": false,
     "start_time": "2024-10-06T06:07:18.439897",
     "status": "completed"
    },
    "tags": []
   },
   "outputs": [],
   "source": [
    "# train_df.iloc[558047]['text'][:70].replace(to_replace=r'[^\\x00-\\x7F]+', value='', regex=True)"
   ]
  },
  {
   "cell_type": "code",
   "execution_count": 27,
   "id": "aa7db78a",
   "metadata": {
    "execution": {
     "iopub.execute_input": "2024-10-06T06:07:18.488527Z",
     "iopub.status.busy": "2024-10-06T06:07:18.487876Z",
     "iopub.status.idle": "2024-10-06T06:07:45.984574Z",
     "shell.execute_reply": "2024-10-06T06:07:45.983516Z"
    },
    "papermill": {
     "duration": 27.513415,
     "end_time": "2024-10-06T06:07:45.987022",
     "exception": false,
     "start_time": "2024-10-06T06:07:18.473607",
     "status": "completed"
    },
    "tags": []
   },
   "outputs": [],
   "source": [
    "train_df['text'] = train_df['text'].replace(to_replace=r'[^\\x00-\\x7F]+', value='', regex=True)"
   ]
  },
  {
   "cell_type": "code",
   "execution_count": 28,
   "id": "319b5e0f",
   "metadata": {
    "execution": {
     "iopub.execute_input": "2024-10-06T06:07:46.014986Z",
     "iopub.status.busy": "2024-10-06T06:07:46.014183Z",
     "iopub.status.idle": "2024-10-06T06:07:46.020345Z",
     "shell.execute_reply": "2024-10-06T06:07:46.019499Z"
    },
    "papermill": {
     "duration": 0.021947,
     "end_time": "2024-10-06T06:07:46.022313",
     "exception": false,
     "start_time": "2024-10-06T06:07:46.000366",
     "status": "completed"
    },
    "tags": []
   },
   "outputs": [
    {
     "data": {
      "text/plain": [
       "'To hear Ram Gopal Varma say, I never did a film like Rowdy, is a littl'"
      ]
     },
     "execution_count": 28,
     "metadata": {},
     "output_type": "execute_result"
    }
   ],
   "source": [
    "train_df.iloc[558047]['text'][:70]"
   ]
  },
  {
   "cell_type": "markdown",
   "id": "234f6e8c",
   "metadata": {
    "papermill": {
     "duration": 0.012444,
     "end_time": "2024-10-06T06:07:46.047494",
     "exception": false,
     "start_time": "2024-10-06T06:07:46.035050",
     "status": "completed"
    },
    "tags": []
   },
   "source": [
    "The texts are free of unnecessary characters(atleast non_ASCII chars). "
   ]
  },
  {
   "cell_type": "markdown",
   "id": "a9814944",
   "metadata": {
    "papermill": {
     "duration": 0.012572,
     "end_time": "2024-10-06T06:07:46.072580",
     "exception": false,
     "start_time": "2024-10-06T06:07:46.060008",
     "status": "completed"
    },
    "tags": []
   },
   "source": [
    "# Advanced text cleaning"
   ]
  },
  {
   "cell_type": "markdown",
   "id": "095fed39",
   "metadata": {
    "papermill": {
     "duration": 0.012325,
     "end_time": "2024-10-06T06:07:46.097516",
     "exception": false,
     "start_time": "2024-10-06T06:07:46.085191",
     "status": "completed"
    },
    "tags": []
   },
   "source": [
    "Link : https://towardsdatascience.com/multi-class-text-classification-model-comparison-and-selection-5eb066197568"
   ]
  },
  {
   "cell_type": "markdown",
   "id": "eeb58273",
   "metadata": {
    "papermill": {
     "duration": 0.013752,
     "end_time": "2024-10-06T06:07:46.123828",
     "exception": false,
     "start_time": "2024-10-06T06:07:46.110076",
     "status": "completed"
    },
    "tags": []
   },
   "source": [
    "# Downsampling with same class distribution"
   ]
  },
  {
   "cell_type": "code",
   "execution_count": 29,
   "id": "f84b9186",
   "metadata": {
    "execution": {
     "iopub.execute_input": "2024-10-06T06:07:46.151030Z",
     "iopub.status.busy": "2024-10-06T06:07:46.150298Z",
     "iopub.status.idle": "2024-10-06T06:07:46.154313Z",
     "shell.execute_reply": "2024-10-06T06:07:46.153330Z"
    },
    "papermill": {
     "duration": 0.01954,
     "end_time": "2024-10-06T06:07:46.156114",
     "exception": false,
     "start_time": "2024-10-06T06:07:46.136574",
     "status": "completed"
    },
    "tags": []
   },
   "outputs": [],
   "source": [
    "# # Downsample each class\n",
    "# downsampled_df = pd.DataFrame()\n",
    "# df = train_df\n",
    "# target_column = 'target'\n",
    "# total_size = len(train_df) * 0.3"
   ]
  },
  {
   "cell_type": "code",
   "execution_count": 30,
   "id": "46de83dc",
   "metadata": {
    "execution": {
     "iopub.execute_input": "2024-10-06T06:07:46.182689Z",
     "iopub.status.busy": "2024-10-06T06:07:46.182373Z",
     "iopub.status.idle": "2024-10-06T06:07:46.186073Z",
     "shell.execute_reply": "2024-10-06T06:07:46.185224Z"
    },
    "papermill": {
     "duration": 0.019243,
     "end_time": "2024-10-06T06:07:46.187986",
     "exception": false,
     "start_time": "2024-10-06T06:07:46.168743",
     "status": "completed"
    },
    "tags": []
   },
   "outputs": [],
   "source": [
    "# Get the unique values in the target column\n",
    "# classes = df[target_column].unique()"
   ]
  },
  {
   "cell_type": "code",
   "execution_count": 31,
   "id": "3c850bf8",
   "metadata": {
    "execution": {
     "iopub.execute_input": "2024-10-06T06:07:46.215645Z",
     "iopub.status.busy": "2024-10-06T06:07:46.215006Z",
     "iopub.status.idle": "2024-10-06T06:07:46.218878Z",
     "shell.execute_reply": "2024-10-06T06:07:46.218027Z"
    },
    "papermill": {
     "duration": 0.019859,
     "end_time": "2024-10-06T06:07:46.220755",
     "exception": false,
     "start_time": "2024-10-06T06:07:46.200896",
     "status": "completed"
    },
    "tags": []
   },
   "outputs": [],
   "source": [
    "# # Calculate the desired number of samples for each class\n",
    "# class_sizes = {cls: int(total_size * len(classes) / len(classes)) for cls in classes}"
   ]
  },
  {
   "cell_type": "code",
   "execution_count": 32,
   "id": "529d11c6",
   "metadata": {
    "execution": {
     "iopub.execute_input": "2024-10-06T06:07:46.247835Z",
     "iopub.status.busy": "2024-10-06T06:07:46.247079Z",
     "iopub.status.idle": "2024-10-06T06:07:46.251042Z",
     "shell.execute_reply": "2024-10-06T06:07:46.250190Z"
    },
    "papermill": {
     "duration": 0.019519,
     "end_time": "2024-10-06T06:07:46.252965",
     "exception": false,
     "start_time": "2024-10-06T06:07:46.233446",
     "status": "completed"
    },
    "tags": []
   },
   "outputs": [],
   "source": [
    "# # this is the modified version of the same\n",
    "# original_proportions = df[target_column].value_counts(normalize=True).to_dict()\n",
    "# # original_proportions\n",
    "# class_sizes = {cls: int(total_size * original_proportions[cls]) for cls in classes}"
   ]
  },
  {
   "cell_type": "code",
   "execution_count": 33,
   "id": "05125866",
   "metadata": {
    "execution": {
     "iopub.execute_input": "2024-10-06T06:07:46.280043Z",
     "iopub.status.busy": "2024-10-06T06:07:46.279478Z",
     "iopub.status.idle": "2024-10-06T06:07:46.283420Z",
     "shell.execute_reply": "2024-10-06T06:07:46.282537Z"
    },
    "papermill": {
     "duration": 0.019625,
     "end_time": "2024-10-06T06:07:46.285317",
     "exception": false,
     "start_time": "2024-10-06T06:07:46.265692",
     "status": "completed"
    },
    "tags": []
   },
   "outputs": [],
   "source": [
    "# class_sizes"
   ]
  },
  {
   "cell_type": "code",
   "execution_count": 34,
   "id": "416c9cad",
   "metadata": {
    "execution": {
     "iopub.execute_input": "2024-10-06T06:07:46.312379Z",
     "iopub.status.busy": "2024-10-06T06:07:46.311852Z",
     "iopub.status.idle": "2024-10-06T06:07:46.315807Z",
     "shell.execute_reply": "2024-10-06T06:07:46.314958Z"
    },
    "papermill": {
     "duration": 0.019398,
     "end_time": "2024-10-06T06:07:46.317721",
     "exception": false,
     "start_time": "2024-10-06T06:07:46.298323",
     "status": "completed"
    },
    "tags": []
   },
   "outputs": [],
   "source": [
    "# # Adjust the last class if necessary to reach the total size\n",
    "# THESE IS INTRODUCING A NEW DECIMAL INTO THE SAMPLE SIZE\n",
    "# remaining_samples = total_size - sum(class_sizes.values())\n",
    "# class_sizes[list(classes)[-1]] += remaining_samples"
   ]
  },
  {
   "cell_type": "code",
   "execution_count": 35,
   "id": "e96307a0",
   "metadata": {
    "execution": {
     "iopub.execute_input": "2024-10-06T06:07:46.344519Z",
     "iopub.status.busy": "2024-10-06T06:07:46.343950Z",
     "iopub.status.idle": "2024-10-06T06:07:46.347969Z",
     "shell.execute_reply": "2024-10-06T06:07:46.347174Z"
    },
    "papermill": {
     "duration": 0.01953,
     "end_time": "2024-10-06T06:07:46.349898",
     "exception": false,
     "start_time": "2024-10-06T06:07:46.330368",
     "status": "completed"
    },
    "tags": []
   },
   "outputs": [],
   "source": [
    "# class_sizes"
   ]
  },
  {
   "cell_type": "code",
   "execution_count": 36,
   "id": "79bb0893",
   "metadata": {
    "execution": {
     "iopub.execute_input": "2024-10-06T06:07:46.377185Z",
     "iopub.status.busy": "2024-10-06T06:07:46.376329Z",
     "iopub.status.idle": "2024-10-06T06:07:46.380910Z",
     "shell.execute_reply": "2024-10-06T06:07:46.380121Z"
    },
    "papermill": {
     "duration": 0.020178,
     "end_time": "2024-10-06T06:07:46.382721",
     "exception": false,
     "start_time": "2024-10-06T06:07:46.362543",
     "status": "completed"
    },
    "tags": []
   },
   "outputs": [],
   "source": [
    "# for cls in classes:\n",
    "#     class_data = df[df[target_column] == cls]\n",
    "# #     print(f'cls: {cls} \\n class_sizes[cls]: {class_sizes[cls]}')\n",
    "#     sampled_class = class_data.sample(n=class_sizes[cls], replace=False)\n",
    "#     downsampled_df = pd.concat([downsampled_df, sampled_class])\n",
    "\n",
    "# downsampled_df.head(7)"
   ]
  },
  {
   "cell_type": "code",
   "execution_count": 37,
   "id": "741805e2",
   "metadata": {
    "execution": {
     "iopub.execute_input": "2024-10-06T06:07:46.409636Z",
     "iopub.status.busy": "2024-10-06T06:07:46.409075Z",
     "iopub.status.idle": "2024-10-06T06:07:46.412985Z",
     "shell.execute_reply": "2024-10-06T06:07:46.412120Z"
    },
    "papermill": {
     "duration": 0.019397,
     "end_time": "2024-10-06T06:07:46.414796",
     "exception": false,
     "start_time": "2024-10-06T06:07:46.395399",
     "status": "completed"
    },
    "tags": []
   },
   "outputs": [],
   "source": [
    "# print(\"Original dataset:\")\n",
    "# print(train_df['target'].value_counts(normalize=True))\n",
    "\n",
    "# print(\"\\nDownsampled dataset:\")\n",
    "# print(downsampled_df['target'].value_counts(normalize=True))\n"
   ]
  },
  {
   "cell_type": "code",
   "execution_count": 38,
   "id": "1e14bfc5",
   "metadata": {
    "execution": {
     "iopub.execute_input": "2024-10-06T06:07:46.441823Z",
     "iopub.status.busy": "2024-10-06T06:07:46.441076Z",
     "iopub.status.idle": "2024-10-06T06:07:46.444975Z",
     "shell.execute_reply": "2024-10-06T06:07:46.444158Z"
    },
    "papermill": {
     "duration": 0.019387,
     "end_time": "2024-10-06T06:07:46.446915",
     "exception": false,
     "start_time": "2024-10-06T06:07:46.427528",
     "status": "completed"
    },
    "tags": []
   },
   "outputs": [],
   "source": [
    "# train_df.shape, downsampled_df.shape"
   ]
  },
  {
   "cell_type": "markdown",
   "id": "ea272894",
   "metadata": {
    "papermill": {
     "duration": 0.012504,
     "end_time": "2024-10-06T06:07:46.472093",
     "exception": false,
     "start_time": "2024-10-06T06:07:46.459589",
     "status": "completed"
    },
    "tags": []
   },
   "source": [
    "## into modular method"
   ]
  },
  {
   "cell_type": "code",
   "execution_count": 39,
   "id": "f4d740a4",
   "metadata": {
    "execution": {
     "iopub.execute_input": "2024-10-06T06:07:46.498701Z",
     "iopub.status.busy": "2024-10-06T06:07:46.498366Z",
     "iopub.status.idle": "2024-10-06T06:07:46.504942Z",
     "shell.execute_reply": "2024-10-06T06:07:46.504092Z"
    },
    "papermill": {
     "duration": 0.022129,
     "end_time": "2024-10-06T06:07:46.506813",
     "exception": false,
     "start_time": "2024-10-06T06:07:46.484684",
     "status": "completed"
    },
    "tags": []
   },
   "outputs": [],
   "source": [
    "def downsampling_dataset(df, target_column, total_size):\n",
    "\n",
    "    # Get the unique values in the target column\n",
    "    classes = df[target_column].unique()\n",
    "\n",
    "    # this is the modified version of the same\n",
    "    original_proportions = df[target_column].value_counts(normalize=True).to_dict()\n",
    "    # original_proportions\n",
    "    class_sizes = {cls: int(total_size * original_proportions[cls]) for cls in classes}\n",
    "    \n",
    "    # Downsample each class\n",
    "    downsampled_df = pd.DataFrame()\n",
    "    for cls in classes:\n",
    "        class_data = df[df[target_column] == cls]\n",
    "    #     print(f'cls: {cls} \\n class_sizes[cls]: {class_sizes[cls]}')\n",
    "        sampled_class = class_data.sample(n=class_sizes[cls], replace=False)\n",
    "        downsampled_df = pd.concat([downsampled_df, sampled_class])\n",
    "\n",
    "    return downsampled_df"
   ]
  },
  {
   "cell_type": "code",
   "execution_count": 40,
   "id": "b6a6320b",
   "metadata": {
    "execution": {
     "iopub.execute_input": "2024-10-06T06:07:46.533733Z",
     "iopub.status.busy": "2024-10-06T06:07:46.533421Z",
     "iopub.status.idle": "2024-10-06T06:07:48.331332Z",
     "shell.execute_reply": "2024-10-06T06:07:48.330397Z"
    },
    "papermill": {
     "duration": 1.81423,
     "end_time": "2024-10-06T06:07:48.333736",
     "exception": false,
     "start_time": "2024-10-06T06:07:46.519506",
     "status": "completed"
    },
    "tags": []
   },
   "outputs": [
    {
     "name": "stdout",
     "output_type": "stream",
     "text": [
      "Original dataset:\n",
      "target\n",
      "academic interests                           0.083918\n",
      "books and literature                         0.057994\n",
      "healthy living                               0.044392\n",
      "careers                                      0.043417\n",
      "news and politics                            0.043311\n",
      "shopping                                     0.042282\n",
      "style and fashion                            0.041792\n",
      "family and relationships                     0.041526\n",
      "business and finance                         0.040198\n",
      "automotives                                  0.040157\n",
      "pharmaceuticals, conditions, and symptoms    0.038162\n",
      "arts and culture                             0.037799\n",
      "sports                                       0.035199\n",
      "pets                                         0.034612\n",
      "hobbies and interests                        0.034345\n",
      "real estate                                  0.034186\n",
      "food and drinks                              0.033611\n",
      "home and garden                              0.033004\n",
      "video gaming                                 0.032918\n",
      "movies                                       0.031242\n",
      "travel                                       0.031111\n",
      "personal finance                             0.030295\n",
      "technology and computing                     0.029718\n",
      "music and audio                              0.029592\n",
      "television                                   0.028009\n",
      "health                                       0.027211\n",
      "Name: proportion, dtype: float64\n",
      "\n",
      "Downsampled dataset:\n",
      "target\n",
      "academic interests                           0.083922\n",
      "books and literature                         0.057997\n",
      "healthy living                               0.044393\n",
      "careers                                      0.043417\n",
      "news and politics                            0.043312\n",
      "shopping                                     0.042284\n",
      "style and fashion                            0.041791\n",
      "family and relationships                     0.041528\n",
      "business and finance                         0.040198\n",
      "automotives                                  0.040155\n",
      "pharmaceuticals, conditions, and symptoms    0.038161\n",
      "arts and culture                             0.037797\n",
      "sports                                       0.035200\n",
      "pets                                         0.034611\n",
      "hobbies and interests                        0.034344\n",
      "real estate                                  0.034186\n",
      "food and drinks                              0.033612\n",
      "home and garden                              0.033004\n",
      "video gaming                                 0.032918\n",
      "movies                                       0.031239\n",
      "travel                                       0.031110\n",
      "personal finance                             0.030292\n",
      "technology and computing                     0.029718\n",
      "music and audio                              0.029589\n",
      "television                                   0.028011\n",
      "health                                       0.027212\n",
      "Name: proportion, dtype: float64\n"
     ]
    }
   ],
   "source": [
    "print(\"Original dataset:\")\n",
    "print(train_df['target'].value_counts(normalize=True))\n",
    "\n",
    "# Downsample the dataset to 50% of its original size\n",
    "total_size = len(train_df) * 0.3\n",
    "downsampled_df = downsampling_dataset(train_df, 'target', total_size)\n",
    "\n",
    "print(\"\\nDownsampled dataset:\")\n",
    "print(downsampled_df['target'].value_counts(normalize=True))"
   ]
  },
  {
   "cell_type": "code",
   "execution_count": 41,
   "id": "246d8d49",
   "metadata": {
    "execution": {
     "iopub.execute_input": "2024-10-06T06:07:48.361550Z",
     "iopub.status.busy": "2024-10-06T06:07:48.361192Z",
     "iopub.status.idle": "2024-10-06T06:07:48.367448Z",
     "shell.execute_reply": "2024-10-06T06:07:48.366387Z"
    },
    "papermill": {
     "duration": 0.022634,
     "end_time": "2024-10-06T06:07:48.369617",
     "exception": false,
     "start_time": "2024-10-06T06:07:48.346983",
     "status": "completed"
    },
    "tags": []
   },
   "outputs": [
    {
     "data": {
      "text/plain": [
       "((696920, 3), (209064, 3))"
      ]
     },
     "execution_count": 41,
     "metadata": {},
     "output_type": "execute_result"
    }
   ],
   "source": [
    "train_df.shape, downsampled_df.shape"
   ]
  },
  {
   "cell_type": "code",
   "execution_count": 42,
   "id": "c73cd721",
   "metadata": {
    "execution": {
     "iopub.execute_input": "2024-10-06T06:07:48.397880Z",
     "iopub.status.busy": "2024-10-06T06:07:48.397273Z",
     "iopub.status.idle": "2024-10-06T06:07:54.943466Z",
     "shell.execute_reply": "2024-10-06T06:07:54.942506Z"
    },
    "papermill": {
     "duration": 6.563285,
     "end_time": "2024-10-06T06:07:54.946295",
     "exception": false,
     "start_time": "2024-10-06T06:07:48.383010",
     "status": "completed"
    },
    "tags": []
   },
   "outputs": [],
   "source": [
    "test_df = pd.read_csv(test_ds_path, encoding='ISO-8859-1')\n",
    "sample_df = pd.read_csv(sample_path, encoding='ISO-8859-1')"
   ]
  },
  {
   "cell_type": "code",
   "execution_count": 43,
   "id": "84633a17",
   "metadata": {
    "execution": {
     "iopub.execute_input": "2024-10-06T06:07:54.979018Z",
     "iopub.status.busy": "2024-10-06T06:07:54.978656Z",
     "iopub.status.idle": "2024-10-06T06:08:01.807359Z",
     "shell.execute_reply": "2024-10-06T06:08:01.806313Z"
    },
    "papermill": {
     "duration": 6.845438,
     "end_time": "2024-10-06T06:08:01.809736",
     "exception": false,
     "start_time": "2024-10-06T06:07:54.964298",
     "status": "completed"
    },
    "tags": []
   },
   "outputs": [],
   "source": [
    "test_df['text'] = test_df['text'].replace(to_replace=r'[^\\x00-\\x7F]+', value='', regex=True)"
   ]
  },
  {
   "cell_type": "code",
   "execution_count": 44,
   "id": "23219263",
   "metadata": {
    "execution": {
     "iopub.execute_input": "2024-10-06T06:08:01.838352Z",
     "iopub.status.busy": "2024-10-06T06:08:01.837652Z",
     "iopub.status.idle": "2024-10-06T06:08:20.806661Z",
     "shell.execute_reply": "2024-10-06T06:08:20.805858Z"
    },
    "papermill": {
     "duration": 18.985616,
     "end_time": "2024-10-06T06:08:20.809014",
     "exception": false,
     "start_time": "2024-10-06T06:08:01.823398",
     "status": "completed"
    },
    "tags": []
   },
   "outputs": [],
   "source": [
    "downsampled_df.to_csv('/kaggle/working/downsampled_df.csv',sep=',',index=False)\n",
    "test_df.to_csv('/kaggle/working/test_df.csv',sep=',',index=False)\n",
    "sample_df.to_csv('/kaggle/working/sample_df.csv',sep=',',index=False)"
   ]
  },
  {
   "cell_type": "code",
   "execution_count": null,
   "id": "9a4e1db9",
   "metadata": {
    "papermill": {
     "duration": 0.013277,
     "end_time": "2024-10-06T06:08:20.835942",
     "exception": false,
     "start_time": "2024-10-06T06:08:20.822665",
     "status": "completed"
    },
    "tags": []
   },
   "outputs": [],
   "source": []
  },
  {
   "cell_type": "markdown",
   "id": "6615a3d6",
   "metadata": {
    "papermill": {
     "duration": 0.01279,
     "end_time": "2024-10-06T06:08:20.861819",
     "exception": false,
     "start_time": "2024-10-06T06:08:20.849029",
     "status": "completed"
    },
    "tags": []
   },
   "source": [
    "# Resources/ Learnings:\n",
    "\n",
    "\n",
    "1. the types of unicode char\n",
    "\n",
    "    ```\n",
    "    Explanation of unicodedata.category(c)[0]\n",
    "\n",
    "    The code unicodedata.category(c)[0] is used in Python to determine the Unicode category of a given character c. The Unicode standard categorizes characters into different groups based on their usage and properties. The returned value is a string representing the category, and the first character of this string indicates the general category.\n",
    "\n",
    "    Here are some common Unicode categories that you might encounter:\n",
    "\n",
    "        L: Letter\n",
    "        N: Number\n",
    "        P: Punctuation\n",
    "        S: Symbol\n",
    "        Z: Separator\n",
    "        C: Other\n",
    "    ```"
   ]
  },
  {
   "cell_type": "code",
   "execution_count": null,
   "id": "e1055791",
   "metadata": {
    "papermill": {
     "duration": 0.012858,
     "end_time": "2024-10-06T06:08:20.887646",
     "exception": false,
     "start_time": "2024-10-06T06:08:20.874788",
     "status": "completed"
    },
    "tags": []
   },
   "outputs": [],
   "source": []
  }
 ],
 "metadata": {
  "kaggle": {
   "accelerator": "none",
   "dataSources": [
    {
     "datasetId": 5750625,
     "sourceId": 9459327,
     "sourceType": "datasetVersion"
    }
   ],
   "dockerImageVersionId": 30775,
   "isGpuEnabled": false,
   "isInternetEnabled": true,
   "language": "python",
   "sourceType": "notebook"
  },
  "kernelspec": {
   "display_name": "Python 3",
   "language": "python",
   "name": "python3"
  },
  "language_info": {
   "codemirror_mode": {
    "name": "ipython",
    "version": 3
   },
   "file_extension": ".py",
   "mimetype": "text/x-python",
   "name": "python",
   "nbconvert_exporter": "python",
   "pygments_lexer": "ipython3",
   "version": "3.10.14"
  },
  "papermill": {
   "default_parameters": {},
   "duration": 99.09184,
   "end_time": "2024-10-06T06:08:21.820782",
   "environment_variables": {},
   "exception": null,
   "input_path": "__notebook__.ipynb",
   "output_path": "__notebook__.ipynb",
   "parameters": {},
   "start_time": "2024-10-06T06:06:42.728942",
   "version": "2.6.0"
  }
 },
 "nbformat": 4,
 "nbformat_minor": 5
}
